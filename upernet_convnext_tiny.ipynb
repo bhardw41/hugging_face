{
 "cells": [
  {
   "cell_type": "markdown",
   "id": "e7df7e42",
   "metadata": {},
   "source": [
    "# UpernetConvnextTiny\n",
    "This is another model that I found on Hugging Face. "
   ]
  },
  {
   "cell_type": "code",
   "execution_count": null,
   "id": "b3ee9708",
   "metadata": {},
   "outputs": [],
   "source": [
    "from transformers import AutoImageProcessor, UperNetForSemanticSegmentation\n",
    "from PIL import Image\n",
    "from huggingface_hub import hf_hub_download\n",
    "import matplotlib.pylab as plt\n",
    "from wrapper import logit_image"
   ]
  },
  {
   "cell_type": "code",
   "execution_count": null,
   "id": "33f6c304",
   "metadata": {},
   "outputs": [],
   "source": [
    "image_processor = AutoImageProcessor.from_pretrained(\"openmmlab/upernet-convnext-tiny\")\n",
    "model = UperNetForSemanticSegmentation.from_pretrained(\"openmmlab/upernet-convnext-tiny\")\n",
    "image_path = \"./Images/trump.png\"\n",
    "image = Image.open(image_path).convert(\"RGB\")\n",
    "image_path_GT = 'Images/trump_GT.png'\n",
    "ground_truth = Image.open(image_path_GT).convert(\"RGB\")\n",
    "inputs = image_processor(images=image, return_tensors=\"pt\")\n",
    "outputs = model(**inputs)\n",
    "logits = outputs.logits  # shape (batch_size, num_labels, height, width)\n",
    "list(logits.shape)"
   ]
  },
  {
   "cell_type": "code",
   "execution_count": null,
   "id": "99e6f7c3",
   "metadata": {},
   "outputs": [],
   "source": [
    "mask = logit_image.logits_to_image(image, logits)\n",
    "plt.imshow(mask)"
   ]
  },
  {
   "cell_type": "code",
   "execution_count": null,
   "id": "eb8cb9d3",
   "metadata": {},
   "outputs": [],
   "source": []
  }
 ],
 "metadata": {
  "kernelspec": {
   "display_name": "Python 3 (ipykernel)",
   "language": "python",
   "name": "python3"
  },
  "language_info": {
   "codemirror_mode": {
    "name": "ipython",
    "version": 3
   },
   "file_extension": ".py",
   "mimetype": "text/x-python",
   "name": "python",
   "nbconvert_exporter": "python",
   "pygments_lexer": "ipython3",
   "version": "3.10.9"
  }
 },
 "nbformat": 4,
 "nbformat_minor": 5
}
