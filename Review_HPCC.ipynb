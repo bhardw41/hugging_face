{
 "cells": [
  {
   "cell_type": "markdown",
   "id": "5c71d08f-8c36-4ede-8f72-87ec5684637f",
   "metadata": {},
   "source": [
    "# Review HPCC results"
   ]
  },
  {
   "cell_type": "code",
   "execution_count": null,
   "id": "c2f7addc-140b-46ed-a30c-de0cc3cba36c",
   "metadata": {},
   "outputs": [],
   "source": [
    "import sys\n",
    "sys.path.append('./see-segment')\n",
    "\n",
    "from pathlib import Path\n",
    "import pandas as pd\n",
    "import numpy as np\n",
    "from SEE_hug import list_of_models\n",
    "import re"
   ]
  },
  {
   "cell_type": "code",
   "execution_count": null,
   "id": "34910857-e16c-4689-b49d-69f0d6a409d5",
   "metadata": {},
   "outputs": [],
   "source": [
    "outputpath = Path('./EXAMPLES_Output')\n",
    "outputfiles = outputpath.glob('*.out')\n",
    "\n",
    "\n",
    "images = list(list_of_models.get_imagefiles(directory='./Images'))\n",
    "\n",
    "imagename='test'\n",
    "ERRORS = []\n",
    "AllFit = {}\n",
    "allmodels = set()\n",
    "\n",
    "for out in outputfiles:\n",
    "    num = int(out.name.split('_')[1].split('.')[0])\n",
    "    Fitness = {}\n",
    "    with open(out) as fp:\n",
    "        for line in fp:\n",
    "            # if '#Running' in line:\n",
    "            #     print(line)\n",
    "            if '#FITNESS' in line:\n",
    "                if '@' in line:\n",
    "                    fitness,model = line.split('@')\n",
    "                    allmodels.add(model.strip())\n",
    "                    if 'ERROR' in fitness:\n",
    "                        ERRORS.append(fitness)\n",
    "                        fitness = 888\n",
    "                    else:\n",
    "                        fitness = float(fitness.split('[')[1].split(',')[0])\n",
    "                    Fitness[model.strip()] = fitness\n",
    "    AllFit[images[num][0].name] = Fitness"
   ]
  },
  {
   "cell_type": "code",
   "execution_count": null,
   "id": "ec078f74-6102-4f07-9212-c63efb2e85da",
   "metadata": {},
   "outputs": [],
   "source": [
    "table = (np.ones((len(images),1+len(allmodels)))*999).tolist();\n",
    "for row,image in enumerate(images):\n",
    "    for col,model in enumerate(allmodels):\n",
    "        name = image[0].name\n",
    "        table[row][0] = name\n",
    "        if name in AllFit:\n",
    "            myrow =AllFit[name]\n",
    "            if model in myrow:\n",
    "                table[row][col+1] = myrow[model]"
   ]
  },
  {
   "cell_type": "code",
   "execution_count": null,
   "id": "66599df7-b72c-4201-9937-69e4617f889d",
   "metadata": {
    "tags": []
   },
   "outputs": [],
   "source": [
    "df = pd.DataFrame(table, columns=['Name']+ list(allmodels))\n",
    "df.set_index('Name')\n",
    "df = df.transpose()\n",
    "#pd.set_option(\"display.max_rows\", None, \"display.max_columns\", None)\n",
    "df"
   ]
  },
  {
   "cell_type": "code",
   "execution_count": null,
   "id": "297efe41-2a5e-4b42-9d51-76a1d9d35161",
   "metadata": {},
   "outputs": [],
   "source": [
    "df"
   ]
  },
  {
   "cell_type": "code",
   "execution_count": null,
   "id": "3b6c384c-00cf-4b1e-ae12-32276403811f",
   "metadata": {},
   "outputs": [],
   "source": []
  }
 ],
 "metadata": {
  "kernelspec": {
   "display_name": "Python 3 (ipykernel)",
   "language": "python",
   "name": "python3"
  },
  "language_info": {
   "codemirror_mode": {
    "name": "ipython",
    "version": 3
   },
   "file_extension": ".py",
   "mimetype": "text/x-python",
   "name": "python",
   "nbconvert_exporter": "python",
   "pygments_lexer": "ipython3",
   "version": "3.10.10"
  }
 },
 "nbformat": 4,
 "nbformat_minor": 5
}
