{
 "cells": [
  {
   "cell_type": "markdown",
   "id": "7a89a0c7",
   "metadata": {},
   "source": [
    "# Correcting labeling issue in our dataset\n"
   ]
  },
  {
   "cell_type": "code",
   "execution_count": 1,
   "id": "860dd8aa",
   "metadata": {},
   "outputs": [],
   "source": [
    "import matplotlib.pyplot as plt\n",
    "from imageio import v3 as imageio\n",
    "import numpy as np\n",
    "img = imageio.imread('Images/a_walk_in_the_park.jpg')\n",
    "gmask = imageio.imread('Images/a_walk_in_the_park_GT.jpg')\n",
    "\n",
    "img = imageio.imread('Images/Street.png')\n",
    "gmask = imageio.imread('Images/Street_GT.png')\n",
    "\n",
    "img = imageio.imread('Images/trump.png')\n",
    "gmask = imageio.imread('Images/trump_newGT.png')"
   ]
  },
  {
   "cell_type": "code",
   "execution_count": 2,
   "id": "06038bf6",
   "metadata": {},
   "outputs": [],
   "source": [
    "data = np.array(gmask)\n",
    "length = np.unique(data)\n",
    "length = length[::-1]\n",
    "max_val = length[0]"
   ]
  },
  {
   "cell_type": "markdown",
   "id": "4ba27b65",
   "metadata": {},
   "source": [
    "I count the five objects that occur the maximum number of times and keep them while making everything else 0."
   ]
  },
  {
   "cell_type": "code",
   "execution_count": 3,
   "id": "6763377f",
   "metadata": {},
   "outputs": [],
   "source": [
    "\n",
    "counts =[]\n",
    "for i in range(max_val+1):\n",
    "    count = np.count_nonzero(data == i)\n",
    "    counts.append((count, i))\n",
    "counts.sort(reverse=True)\n",
    "five_largest_counts = [count for count, _ in counts[:5]]\n",
    "five_largest_numbers = [number for _, number in counts[:5]]\n",
    "\n"
   ]
  },
  {
   "cell_type": "code",
   "execution_count": 4,
   "id": "f4e10ef6",
   "metadata": {},
   "outputs": [],
   "source": [
    "\n",
    "values_to_keep = [counts[0], counts[1], counts[2], counts[3], counts[4]]\n",
    "\n",
    "data[~np.isin(data, values_to_keep)] = 0"
   ]
  },
  {
   "cell_type": "code",
   "execution_count": 5,
   "id": "158e04c9",
   "metadata": {},
   "outputs": [
    {
     "data": {
      "text/plain": [
       "<matplotlib.image.AxesImage at 0x1261b01c0>"
      ]
     },
     "execution_count": 5,
     "metadata": {},
     "output_type": "execute_result"
    },
    {
     "data": {
      "image/png": "[encoded data removed]",
      "text/plain": [
       "<Figure size 640x480 with 1 Axes>"
      ]
     },
     "metadata": {},
     "output_type": "display_data"
    }
   ],
   "source": [
    "plt.imshow(data)"
   ]
  },
  {
   "cell_type": "code",
   "execution_count": null,
   "id": "670fa583",
   "metadata": {},
   "outputs": [],
   "source": []
  }
 ],
 "metadata": {
  "kernelspec": {
   "display_name": "Python 3 (ipykernel)",
   "language": "python",
   "name": "python3"
  },
  "language_info": {
   "codemirror_mode": {
    "name": "ipython",
    "version": 3
   },
   "file_extension": ".py",
   "mimetype": "text/x-python",
   "name": "python",
   "nbconvert_exporter": "python",
   "pygments_lexer": "ipython3",
   "version": "3.10.9"
  }
 },
 "nbformat": 4,
 "nbformat_minor": 5
}
