{
 "cells": [
  {
   "cell_type": "code",
   "execution_count": 8,
   "id": "ab37b84a",
   "metadata": {},
   "outputs": [
    {
     "name": "stderr",
     "output_type": "stream",
     "text": [
      "Could not find image processor class in the image processor config or the model config. Loading based on pattern matching with the model's feature extractor configuration.\n"
     ]
    }
   ],
   "source": [
    "from transformers import AutoImageProcessor, BeitForSemanticSegmentation\n",
    "from PIL import Image\n",
    "from wrapper import logit_image\n",
    "import requests\n",
    "image_path = 'Images/trump.png'\n",
    "image = Image.open(image_path).convert(\"RGB\")\n",
    "# image_path_GT = 'Image_data/Examples/trump_GT.png'\n",
    "# ground_truth = Image.open(image_path_GT).convert(\"RGB\")\n",
    "# url = \"http://images.cocodataset.org/val2017/000000039769.jpg\"\n",
    "# image = Image.open(requests.get(url, stream=True).raw)\n",
    "\n",
    "image_processor = AutoImageProcessor.from_pretrained(\"microsoft/beit-base-finetuned-ade-640-640\")\n",
    "model = BeitForSemanticSegmentation.from_pretrained(\"microsoft/beit-base-finetuned-ade-640-640\")\n",
    "\n",
    "inputs = image_processor(images=image, return_tensors=\"pt\")\n",
    "outputs = model(**inputs)\n",
    "# logits are of shape (batch_size, num_labels, height, width)\n",
    "logits = outputs.logits\n",
    "image = logit_image.logits_to_image(logits)\n",
    "image.show()"
   ]
  }
 ],
 "metadata": {
  "kernelspec": {
   "display_name": "Python 3 (ipykernel)",
   "language": "python",
   "name": "python3"
  },
  "language_info": {
   "codemirror_mode": {
    "name": "ipython",
    "version": 3
   },
   "file_extension": ".py",
   "mimetype": "text/x-python",
   "name": "python",
   "nbconvert_exporter": "python",
   "pygments_lexer": "ipython3",
   "version": "3.10.9"
  }
 },
 "nbformat": 4,
 "nbformat_minor": 5
}
