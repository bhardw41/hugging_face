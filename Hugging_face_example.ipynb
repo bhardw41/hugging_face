{
 "cells": [
  {
   "cell_type": "markdown",
   "id": "33c77785-63c6-443f-9f37-4b1c02765a4f",
   "metadata": {},
   "source": [
    "# Selenium Example Notebook\n",
    "\n",
    "This example is scrapping hugging-face website.\n",
    "\n",
    "### Step 1: Set up Selium Driver"
   ]
  },
  {
   "cell_type": "code",
   "execution_count": 19,
   "id": "5972cdc5-9516-4e0c-8cf5-4e38e9ecedd8",
   "metadata": {
    "tags": []
   },
   "outputs": [
    {
     "name": "stdout",
     "output_type": "stream",
     "text": [
      "Requirement already satisfied: selenium in /Users/ishasharma/anaconda3/lib/python3.10/site-packages (4.10.0)\n",
      "Requirement already satisfied: urllib3[socks]<3,>=1.26 in /Users/ishasharma/anaconda3/lib/python3.10/site-packages (from selenium) (1.26.14)\n",
      "Requirement already satisfied: trio~=0.17 in /Users/ishasharma/anaconda3/lib/python3.10/site-packages (from selenium) (0.22.0)\n",
      "Requirement already satisfied: trio-websocket~=0.9 in /Users/ishasharma/anaconda3/lib/python3.10/site-packages (from selenium) (0.10.3)\n",
      "Requirement already satisfied: certifi>=2021.10.8 in /Users/ishasharma/anaconda3/lib/python3.10/site-packages (from selenium) (2023.5.7)\n",
      "Requirement already satisfied: attrs>=19.2.0 in /Users/ishasharma/anaconda3/lib/python3.10/site-packages (from trio~=0.17->selenium) (22.1.0)\n",
      "Requirement already satisfied: sortedcontainers in /Users/ishasharma/anaconda3/lib/python3.10/site-packages (from trio~=0.17->selenium) (2.4.0)\n",
      "Requirement already satisfied: async-generator>=1.9 in /Users/ishasharma/anaconda3/lib/python3.10/site-packages (from trio~=0.17->selenium) (1.10)\n",
      "Requirement already satisfied: idna in /Users/ishasharma/anaconda3/lib/python3.10/site-packages (from trio~=0.17->selenium) (3.4)\n",
      "Requirement already satisfied: outcome in /Users/ishasharma/anaconda3/lib/python3.10/site-packages (from trio~=0.17->selenium) (1.2.0)\n",
      "Requirement already satisfied: sniffio in /Users/ishasharma/anaconda3/lib/python3.10/site-packages (from trio~=0.17->selenium) (1.2.0)\n",
      "Requirement already satisfied: exceptiongroup>=1.0.0rc9 in /Users/ishasharma/anaconda3/lib/python3.10/site-packages (from trio~=0.17->selenium) (1.1.1)\n",
      "Requirement already satisfied: wsproto>=0.14 in /Users/ishasharma/anaconda3/lib/python3.10/site-packages (from trio-websocket~=0.9->selenium) (1.2.0)\n",
      "Requirement already satisfied: PySocks!=1.5.7,<2.0,>=1.5.6 in /Users/ishasharma/anaconda3/lib/python3.10/site-packages (from urllib3[socks]<3,>=1.26->selenium) (1.7.1)\n",
      "Requirement already satisfied: h11<1,>=0.9.0 in /Users/ishasharma/anaconda3/lib/python3.10/site-packages (from wsproto>=0.14->trio-websocket~=0.9->selenium) (0.14.0)\n"
     ]
    },
    {
     "data": {
      "text/plain": [
       "'/Users/ishasharma/.wdm/drivers/chromedriver/mac_arm64/114.0.5735.90/chromedriver'"
      ]
     },
     "execution_count": 19,
     "metadata": {},
     "output_type": "execute_result"
    }
   ],
   "source": [
    "#Load selinimum and automatically install the Chrome Driver\n",
    "\n",
    "\n",
    "import selenium\n",
    "from selenium import webdriver\n",
    "from selenium.webdriver.chrome.options import Options\n",
    "from webdriver_manager.chrome import ChromeDriverManager\n",
    "import time\n",
    "\n",
    "install_path = ChromeDriverManager().install()\n",
    "install_path"
   ]
  },
  {
   "cell_type": "code",
   "execution_count": 20,
   "id": "4fbc3c9f",
   "metadata": {},
   "outputs": [
    {
     "data": {
      "text/plain": [
       "'4.10.0'"
      ]
     },
     "execution_count": 20,
     "metadata": {},
     "output_type": "execute_result"
    }
   ],
   "source": [
    "selenium.__version__"
   ]
  },
  {
   "cell_type": "code",
   "execution_count": 23,
   "id": "a81692c1-feb5-472b-9759-4a8834608e99",
   "metadata": {
    "tags": []
   },
   "outputs": [],
   "source": [
    "#Setup Chrome driver \n",
    "options = Options()\n",
    "# options.add_argument('--headless')\n",
    "driver = webdriver.Chrome()\n",
    "# executable_path=install_path\n",
    "time.sleep(10)"
   ]
  },
  {
   "cell_type": "markdown",
   "id": "966bd63f-3db7-49f6-885e-8c30a1cc97b2",
   "metadata": {},
   "source": [
    "### Step 2: Call the main Course website for MSU "
   ]
  },
  {
   "cell_type": "code",
   "execution_count": 24,
   "id": "dbc503e0-61ba-45a5-a038-2612d88825b5",
   "metadata": {
    "tags": []
   },
   "outputs": [
    {
     "name": "stdout",
     "output_type": "stream",
     "text": [
      "Parcing page 0\n",
      "Parcing page 1\n",
      "Parcing page 2\n",
      "Parcing page 3\n",
      "Parcing page 4\n",
      "Parcing page 5\n",
      "Parcing page 6\n",
      "Parcing page 7\n",
      "Parcing page 8\n"
     ]
    },
    {
     "data": {
      "text/plain": [
       "{'Abhilashvj/clipseg-rd64-refined-copy',\n",
       " 'AlmogM/segformer-b0-finetuned-fish-almogm',\n",
       " 'Andreas-w/brain-classification',\n",
       " 'ArturR01/segformer-b0-example-pytorch-blog',\n",
       " 'Azarthehulk/Image_preprocessing_basics',\n",
       " 'CIDAS/clipseg-rd16',\n",
       " 'CIDAS/clipseg-rd64',\n",
       " 'CIDAS/clipseg-rd64-refined',\n",
       " 'DiTo97/binarization-segformer-b3',\n",
       " 'Edalik/hockey',\n",
       " 'Efferbach/mobilenet_v2_1-10k-steps',\n",
       " 'Efferbach/mobilevit-small-10k-steps',\n",
       " 'Efferbach/segformer-finetuned-lane-10k-steps',\n",
       " 'Efferbach/segformer-finetuned-lane-1k-steps',\n",
       " 'Intel/dpt-large-ade',\n",
       " 'Leiyao-Cui/STRAP',\n",
       " 'Lewislou/cell-seg-sribd',\n",
       " 'Lewislou/cellseg_sribd',\n",
       " 'Matthijs/deeplabv3-mobilevit-small',\n",
       " 'Matthijs/deeplabv3_mobilenet_v2_1.0_513',\n",
       " 'Mendel192/san',\n",
       " 'Narsil/pet-segmentation',\n",
       " 'Niceforo/teste',\n",
       " 'NimaBoscarino/IS-Net_DIS',\n",
       " 'NimaBoscarino/IS-Net_DIS-general-use',\n",
       " 'Onegafer/segformer-v-mesh-0',\n",
       " 'OpenGVLab/PATH-ViTB',\n",
       " 'Plsek/CADET-v1',\n",
       " 'Ragweed/sidewalk-segmentation',\n",
       " 'Robindboer/imageseg',\n",
       " 'Robindboer/segformer-b5-finetuned-segments-mopeds',\n",
       " 'Sadiksmart0/unet',\n",
       " 'Saurabh1105/MMDet',\n",
       " 'SerdarHelli/Segmentation-of-Teeth-in-Panoramic-X-ray-Image-Using-U-Net',\n",
       " 'Sevenlee/kkk',\n",
       " 'Xenova/detr-resnet-50-panoptic',\n",
       " 'Xpitfire/segformer-finetuned-segments-cmp-facade',\n",
       " 'alanoix/segformer_b0_flair_one',\n",
       " 'andrewljohnson/segformer-b0-finetuned-magic-cards-230117',\n",
       " 'andrewljohnson/segformer-b5-finetuned-magic-cards-230117',\n",
       " 'andrewljohnson/segformer-b5-finetuned-magic-cards-230117-2',\n",
       " 'andrewljohnson/segformer-b5-finetuned-magic-cards-230117-3',\n",
       " 'androks/rembg',\n",
       " 'apple/deeplabv3-mobilevit-small',\n",
       " 'apple/deeplabv3-mobilevit-x-small',\n",
       " 'apple/deeplabv3-mobilevit-xx-small',\n",
       " 'apple/mobilevitv2-1.0-voc-deeplabv3',\n",
       " 'bilal01/segformer-b0-finetuned-segments-sidewalk-2',\n",
       " 'bilal01/segformer-b0-finetuned-segments-stamp-verification',\n",
       " 'bilal01/segformer-b0-finetuned-segments-test',\n",
       " 'chainyo/segformer-b1-sidewalk',\n",
       " 'chainyo/segformer-sidewalk',\n",
       " 'cosmobaby/ka',\n",
       " 'deprem-ml/deprem-keras-satellite-semantic-mapping',\n",
       " 'edwardhuang/test-carbonate-segmentation2',\n",
       " 'fabda/nucount',\n",
       " 'facebook/detr-resnet-101-panoptic',\n",
       " 'facebook/detr-resnet-50-dc5-panoptic',\n",
       " 'facebook/detr-resnet-50-panoptic',\n",
       " 'facebook/mask2former-swin-base-IN21k-ade-semantic',\n",
       " 'facebook/mask2former-swin-base-IN21k-cityscapes-instance',\n",
       " 'facebook/mask2former-swin-base-IN21k-cityscapes-panoptic',\n",
       " 'facebook/mask2former-swin-base-IN21k-cityscapes-semantic',\n",
       " 'facebook/mask2former-swin-base-IN21k-coco-instance',\n",
       " 'facebook/mask2former-swin-base-ade-semantic',\n",
       " 'facebook/mask2former-swin-base-coco-instance',\n",
       " 'facebook/mask2former-swin-base-coco-panoptic',\n",
       " 'facebook/mask2former-swin-large-ade-panoptic',\n",
       " 'facebook/mask2former-swin-large-ade-semantic',\n",
       " 'facebook/mask2former-swin-large-cityscapes-instance',\n",
       " 'facebook/mask2former-swin-large-cityscapes-panoptic',\n",
       " 'facebook/mask2former-swin-large-cityscapes-semantic',\n",
       " 'facebook/mask2former-swin-large-coco-instance',\n",
       " 'facebook/mask2former-swin-large-coco-panoptic',\n",
       " 'facebook/mask2former-swin-large-mapillary-vistas-panoptic',\n",
       " 'facebook/mask2former-swin-large-mapillary-vistas-semantic',\n",
       " 'facebook/mask2former-swin-small-ade-semantic',\n",
       " 'facebook/mask2former-swin-small-cityscapes-instance',\n",
       " 'facebook/mask2former-swin-small-cityscapes-panoptic',\n",
       " 'facebook/mask2former-swin-small-cityscapes-semantic',\n",
       " 'facebook/mask2former-swin-small-coco-instance',\n",
       " 'facebook/mask2former-swin-small-coco-panoptic',\n",
       " 'facebook/mask2former-swin-tiny-ade-semantic',\n",
       " 'facebook/mask2former-swin-tiny-cityscapes-instance',\n",
       " 'facebook/mask2former-swin-tiny-cityscapes-panoptic',\n",
       " 'facebook/mask2former-swin-tiny-cityscapes-semantic',\n",
       " 'facebook/mask2former-swin-tiny-coco-instance',\n",
       " 'facebook/mask2former-swin-tiny-coco-panoptic',\n",
       " 'facebook/maskformer-swin-base-ade',\n",
       " 'facebook/maskformer-swin-base-coco',\n",
       " 'facebook/maskformer-swin-large-ade',\n",
       " 'facebook/maskformer-swin-large-coco',\n",
       " 'facebook/maskformer-swin-small-ade',\n",
       " 'facebook/maskformer-swin-small-coco',\n",
       " 'facebook/maskformer-swin-tiny-ade',\n",
       " 'facebook/maskformer-swin-tiny-coco',\n",
       " 'fcakyon/test-model',\n",
       " 'google/deeplabv3_mobilenet_v2_1.0_513',\n",
       " 'harshm121/M3L',\n",
       " 'hf-tiny-model-private/tiny-random-DetrForSegmentation',\n",
       " 'hufanyoung/segformer-b0-finetuned-segments-sidewalk-2',\n",
       " 'imadd/segformer-b0-finetuned-segments-water-2',\n",
       " 'irfan-noordin/segformer-b0-finetuned-segments-sidewalk-oct-22',\n",
       " 'jakka/segformer-b0-finetuned-segments-sidewalk-4',\n",
       " 'jakka/segformer-b0-finetuned-warehouse-part-1-V2',\n",
       " 'jonathandinu/face-parsing',\n",
       " 'jordibeen/segformer-b0-finetuned-segments-mopeds',\n",
       " 'jordibeen/segformer-b0-finetuned-segments-mopeds-2',\n",
       " 'jordibeen/segformer-b0-finetuned-segments-mopeds-3',\n",
       " 'jordibeen/segformer-b3-finetuned-segments-mopeds',\n",
       " 'jtsang4/test-model',\n",
       " 'kasumi222/segformer-b0-finetuned-busigt2',\n",
       " 'keja/deeplab-v3',\n",
       " 'keras-io/deeplabv3p-resnet50',\n",
       " 'keras-io/monocular-depth-estimation',\n",
       " 'keras-io/semantic-segmentation',\n",
       " 'keremberke/yolov8m-building-segmentation',\n",
       " 'keremberke/yolov8m-pcb-defect-segmentation',\n",
       " 'keremberke/yolov8m-pothole-segmentation',\n",
       " 'keremberke/yolov8n-building-segmentation',\n",
       " 'keremberke/yolov8n-pcb-defect-segmentation',\n",
       " 'keremberke/yolov8n-pothole-segmentation',\n",
       " 'keremberke/yolov8s-building-segmentation',\n",
       " 'keremberke/yolov8s-pcb-defect-segmentation',\n",
       " 'keremberke/yolov8s-pothole-segmentation',\n",
       " 'kiheh85202/yolo',\n",
       " 'koushikn/segformer-finetuned-Maize-10k-steps-sem',\n",
       " 'ksahn/pid-s',\n",
       " 'lapix/segformer-b3-finetuned-ccagt-400-300',\n",
       " 'leonelhs/faceparser',\n",
       " 'lmazzon70/deeplab-v3',\n",
       " 'magicmirror/segformer-b4-finetuned-segments-torso',\n",
       " 'malra/segformer-b0-finetuned-segments-sidewalk-4',\n",
       " 'malra/segformer-b5-segments-warehouse1',\n",
       " 'maryann-gitonga/brain-tumor-segmentation-3d-attention-unet',\n",
       " 'matei-dorian/segformer-b0-finetuned-human-parsing',\n",
       " 'matei-dorian/segformer-b5-finetuned-human-parsing',\n",
       " 'matjesg/cFOS_in_HC',\n",
       " 'matjesg/deepflash2_demo',\n",
       " 'matnun/segformer-b0-finetuned-segments-sidewalk-2',\n",
       " 'mattmdjaga/segformer_b0_clothes',\n",
       " 'mattmdjaga/segformer_b2_clothes',\n",
       " 'merve/deeplab-v3',\n",
       " 'microsoft/beit-base-finetuned-ade-640-640',\n",
       " 'microsoft/beit-large-finetuned-ade-640-640',\n",
       " 'millionhz/segformer-b0-finetuned-flame',\n",
       " 'mnosouhi96/segformer-b0-finetuned-segments-sidewalk-2',\n",
       " 'mraottth/trashbot',\n",
       " 'mraottth/trashbot_v1',\n",
       " 'nickmuchi/segformer-b4-finetuned-segments-sidewalk',\n",
       " 'nielsr/segformer-b0-finetuned-segments-sidewalk',\n",
       " 'nielsr/segformer-finetuned-sidewalk',\n",
       " 'nielsr/segformer-finetuned-sidewalk-10k-steps',\n",
       " 'nielsr/segformer-test-sidewalk-v2',\n",
       " 'nielsr/segformer-test-v5',\n",
       " 'nielsr/segformer-test-v6',\n",
       " 'nielsr/segformer-test-v7',\n",
       " 'nielsr/segformer-trainer-test',\n",
       " 'nielsr/segformer-trainer-test-bis',\n",
       " 'nielsr/sidewalk-semantic-demo',\n",
       " 'nishita/segformer-b0-finetuned-segments-sidewalk-2',\n",
       " 'nvidia/segformer-b0-finetuned-ade-512-512',\n",
       " 'nvidia/segformer-b0-finetuned-cityscapes-1024-1024',\n",
       " 'nvidia/segformer-b0-finetuned-cityscapes-512-1024',\n",
       " 'nvidia/segformer-b0-finetuned-cityscapes-640-1280',\n",
       " 'nvidia/segformer-b0-finetuned-cityscapes-768-768',\n",
       " 'nvidia/segformer-b1-finetuned-ade-512-512',\n",
       " 'nvidia/segformer-b1-finetuned-cityscapes-1024-1024',\n",
       " 'nvidia/segformer-b2-finetuned-ade-512-512',\n",
       " 'nvidia/segformer-b2-finetuned-cityscapes-1024-1024',\n",
       " 'nvidia/segformer-b3-finetuned-ade-512-512',\n",
       " 'nvidia/segformer-b3-finetuned-cityscapes-1024-1024',\n",
       " 'nvidia/segformer-b4-finetuned-ade-512-512',\n",
       " 'nvidia/segformer-b4-finetuned-cityscapes-1024-1024',\n",
       " 'nvidia/segformer-b5-finetuned-ade-640-640',\n",
       " 'nvidia/segformer-b5-finetuned-cityscapes-1024-1024',\n",
       " 'openmmlab/upernet-convnext-base',\n",
       " 'openmmlab/upernet-convnext-large',\n",
       " 'openmmlab/upernet-convnext-small',\n",
       " 'openmmlab/upernet-convnext-tiny',\n",
       " 'openmmlab/upernet-convnext-xlarge',\n",
       " 'openmmlab/upernet-swin-base',\n",
       " 'openmmlab/upernet-swin-large',\n",
       " 'openmmlab/upernet-swin-small',\n",
       " 'openmmlab/upernet-swin-tiny',\n",
       " 'optimum/segformer-b0-finetuned-ade-512-512',\n",
       " 'plant/segformer-b5-finetuned-segments-instryde-foot-test',\n",
       " 'prem-timsina/segformer-b0-finetuned-food',\n",
       " 'q2-jlbar/segformer-b0-finetuned-brooks-or-dunn',\n",
       " 'rawjaw/metastore-segmentation',\n",
       " 'reannayang/segformer-b0-pavement',\n",
       " 's3nh/SegFormer-b0-person-segmentation',\n",
       " 's3nh/SegFormer-b4-person-segmentation',\n",
       " 's3nh/SegFormer-b5-person-segm',\n",
       " 'sayakpaul/mit-b0-finetuned-pets',\n",
       " 'sayakpaul/mit-b0-finetuned-sidewalk-semantic',\n",
       " 'segments-tobias/segformer-b0-finetuned-segments-sidewalk',\n",
       " 'segments-tobias/segformer-b3-finetuned-segments-sidewalk',\n",
       " 'shaheen1998/segformer-b0-finetuned-segments-sidewalk-2',\n",
       " 'shehan97/mobilevitv2-1.0-voc-deeplabv3',\n",
       " 'shi-labs/oneformer_ade20k_dinat_large',\n",
       " 'shi-labs/oneformer_ade20k_swin_large',\n",
       " 'shi-labs/oneformer_ade20k_swin_tiny',\n",
       " 'shi-labs/oneformer_cityscapes_dinat_large',\n",
       " 'shi-labs/oneformer_cityscapes_swin_large',\n",
       " 'shi-labs/oneformer_coco_dinat_large',\n",
       " 'shi-labs/oneformer_coco_swin_large',\n",
       " 'shivi/video-mask2former-swin-base-IN21k-youtubevis-2019-instance',\n",
       " 'shivi/video-mask2former-swin-base-IN21k-youtubevis-2021-instance',\n",
       " 'shivi/video-mask2former-swin-large-youtubevis-2019-instance',\n",
       " 'shivi/video-mask2former-swin-large-youtubevis-2021-instance',\n",
       " 'shivi/video-mask2former-swin-small-youtubevis-2019-instance',\n",
       " 'shivi/video-mask2former-swin-small-youtubevis-2021-instance',\n",
       " 'shivi/video-mask2former-swin-tiny-youtubevis-2019-instance',\n",
       " 'shivi/video-mask2former-swin-tiny-youtubevis-2021-instance',\n",
       " 'skaliy/spine-segmentation',\n",
       " 'thesisabc/segformer-b0-finetuned-segments-sidewalk-2',\n",
       " 'thiagohersan/maskformer-satellite-trees',\n",
       " 'turcuciprian/segformer-b0-finetuned-segments-sidewalk-2',\n",
       " 'userGagan/segformer-b0-finetuned-segments-sidewalk-2',\n",
       " 'vhug/segformer-b0-finetuned-xorder-dish-segmentation-trial',\n",
       " 'voitl/unet_plus_plus',\n",
       " 'yahaoh/ddh-maskrcnn',\n",
       " 'yasinelh/retinal_vessel_U-Net',\n",
       " 'yiming19/segformer-b0-finetuned-segments-construction-1',\n",
       " 'zho/segformer-finetuned-sidewalk-10k-steps',\n",
       " 'zklee98/segformer-b1-solarModuleAnomaly-v0.1',\n",
       " 'zoheb/mit-b5-finetuned-sidewalk-semantic'}"
      ]
     },
     "execution_count": 24,
     "metadata": {},
     "output_type": "execute_result"
    }
   ],
   "source": [
    "from bs4 import BeautifulSoup\n",
    "\n",
    "nummodels = 10\n",
    "page = 0;\n",
    "models = set()\n",
    "while nummodels > 0:\n",
    "    print(f\"Parcing page {page}\")\n",
    "    url = f\"https://huggingface.co/models?pipeline_tag=image-segmentation&p={page}&sort=downloads\"\n",
    "    driver.get(url)\n",
    "    time.sleep(5)\n",
    "    body = driver.page_source\n",
    "    soup = BeautifulSoup(body, 'html.parser')\n",
    "    h4s= soup.find_all('h4')\n",
    "\n",
    "    for h4 in h4s:\n",
    "        models.add(h4.get_text())\n",
    "\n",
    "    nummodels = len(h4s)\n",
    "    page = page + 1\n",
    "models"
   ]
  },
  {
   "cell_type": "code",
   "execution_count": 25,
   "id": "79879a9c-156b-40a0-a4e5-42e9e2523ce4",
   "metadata": {
    "tags": []
   },
   "outputs": [
    {
     "data": {
      "text/plain": [
       "228"
      ]
     },
     "execution_count": 25,
     "metadata": {},
     "output_type": "execute_result"
    }
   ],
   "source": [
    "len(models)\n"
   ]
  },
  {
   "cell_type": "code",
   "execution_count": 26,
   "id": "edfedb0c-d763-489c-8423-733ec1d01580",
   "metadata": {},
   "outputs": [],
   "source": [
    "def get_models():\n",
    "    return models"
   ]
  },
  {
   "cell_type": "code",
   "execution_count": null,
   "id": "b2674b9c",
   "metadata": {},
   "outputs": [],
   "source": []
  }
 ],
 "metadata": {
  "kernelspec": {
   "display_name": "Python 3 (ipykernel)",
   "language": "python",
   "name": "python3"
  },
  "language_info": {
   "codemirror_mode": {
    "name": "ipython",
    "version": 3
   },
   "file_extension": ".py",
   "mimetype": "text/x-python",
   "name": "python",
   "nbconvert_exporter": "python",
   "pygments_lexer": "ipython3",
   "version": "3.10.9"
  }
 },
 "nbformat": 4,
 "nbformat_minor": 5
}
