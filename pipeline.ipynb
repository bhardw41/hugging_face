{
 "cells": [
  {
   "cell_type": "markdown",
   "id": "02f9cda4",
   "metadata": {},
   "source": [
    "# Using Pipeline class from Transformers Library\n"
   ]
  },
  {
   "cell_type": "code",
   "execution_count": 1,
   "id": "adeb273b",
   "metadata": {
    "tags": []
   },
   "outputs": [],
   "source": [
    "import pathlib\n",
    "from transformers import pipeline\n",
    "from PIL import Image\n",
    "import matplotlib.pylab as plt\n",
    "import numpy as np"
   ]
  },
  {
   "cell_type": "code",
   "execution_count": 2,
   "id": "0b13d6c2",
   "metadata": {},
   "outputs": [
    {
     "name": "stdout",
     "output_type": "stream",
     "text": [
      "Parcing page 0\n",
      "Parcing page 1\n",
      "Parcing page 2\n",
      "Parcing page 3\n",
      "Parcing page 4\n",
      "Parcing page 5\n",
      "Parcing page 6\n",
      "Parcing page 7\n",
      "Parcing page 8\n"
     ]
    }
   ],
   "source": [
    "from wrapper import list_of_models\n",
    "model = list_of_models.get_models()"
   ]
  },
  {
   "cell_type": "code",
   "execution_count": 3,
   "id": "1cb3e4cd",
   "metadata": {},
   "outputs": [],
   "source": [
    "models = list(model)\n",
    "models = models[0:5]"
   ]
  },
  {
   "cell_type": "markdown",
   "id": "9df7cf3a",
   "metadata": {},
   "source": [
    "#### Extract all the images from our dataset and divide them into ground truths and unsegmented images."
   ]
  },
  {
   "cell_type": "code",
   "execution_count": 4,
   "id": "f1567c05",
   "metadata": {
    "tags": []
   },
   "outputs": [],
   "source": [
    "imagepath = pathlib.Path('./Images/')\n",
    "images = imagepath.glob('*')\n",
    "inferred = []\n",
    "GT = []\n",
    "for image in images:\n",
    "    if \"GT\" in image.name:\n",
    "        GT.append(image)\n",
    "\n",
    "    elif \"GT\" not in image.name and \"ipy\" not in image.name:\n",
    "        inferred.append(image)\n",
    "GT_paths = sorted(GT)\n",
    "input_paths = sorted(inferred)\n"
   ]
  },
  {
   "cell_type": "markdown",
   "id": "06a1a00f",
   "metadata": {
    "tags": []
   },
   "source": [
    "\n",
    "\n",
    "# Test the generated mask with ground truth using SEE-Segment"
   ]
  },
  {
   "cell_type": "code",
   "execution_count": 5,
   "id": "7fb6855d",
   "metadata": {
    "tags": []
   },
   "outputs": [],
   "source": [
    "import sys\n",
    "sys.path.append('/Users/ishasharma/Desktop/SEE Git/see-segment/')"
   ]
  },
  {
   "cell_type": "code",
   "execution_count": 6,
   "id": "fe94e15b",
   "metadata": {
    "tags": []
   },
   "outputs": [],
   "source": [
    "from see import Segment_Fitness as sf"
   ]
  },
  {
   "cell_type": "code",
   "execution_count": 7,
   "id": "c7e1e2da",
   "metadata": {
    "tags": []
   },
   "outputs": [
    {
     "data": {
      "application/vnd.jupyter.widget-view+json": {
       "model_id": "aad64d3c88e147a181a8185d9404fb99",
       "version_major": 2,
       "version_minor": 0
      },
      "text/plain": [
       "Downloading (…)lve/main/config.json:   0%|          | 0.00/1.38k [00:00<?, ?B/s]"
      ]
     },
     "metadata": {},
     "output_type": "display_data"
    },
    {
     "data": {
      "application/vnd.jupyter.widget-view+json": {
       "model_id": "8eff2285c4f840a4a6bd93129e8efd83",
       "version_major": 2,
       "version_minor": 0
      },
      "text/plain": [
       "Downloading pytorch_model.bin:   0%|          | 0.00/10.4M [00:00<?, ?B/s]"
      ]
     },
     "metadata": {},
     "output_type": "display_data"
    },
    {
     "data": {
      "application/vnd.jupyter.widget-view+json": {
       "model_id": "77cf15da3cd149dc99f2e31fe9b1159f",
       "version_major": 2,
       "version_minor": 0
      },
      "text/plain": [
       "Downloading (…)rocessor_config.json:   0%|          | 0.00/406 [00:00<?, ?B/s]"
      ]
     },
     "metadata": {},
     "output_type": "display_data"
    },
    {
     "name": "stderr",
     "output_type": "stream",
     "text": [
      "/Users/ishasharma/anaconda3/lib/python3.10/site-packages/transformers/models/segformer/feature_extraction_segformer.py:28: FutureWarning: The class SegformerFeatureExtractor is deprecated and will be removed in version 5 of Transformers. Please use SegformerImageProcessor instead.\n",
      "  warnings.warn(\n"
     ]
    },
    {
     "name": "stdout",
     "output_type": "stream",
     "text": [
      "trivial solution\n"
     ]
    },
    {
     "data": {
      "application/vnd.jupyter.widget-view+json": {
       "model_id": "d3459eaa57ab4ca7b605eb4b7011753e",
       "version_major": 2,
       "version_minor": 0
      },
      "text/plain": [
       "Downloading (…)lve/main/config.json:   0%|          | 0.00/775 [00:00<?, ?B/s]"
      ]
     },
     "metadata": {},
     "output_type": "display_data"
    },
    {
     "data": {
      "application/vnd.jupyter.widget-view+json": {
       "model_id": "449a421bfdce4cd88710fad01ceaa6dc",
       "version_major": 2,
       "version_minor": 0
      },
      "text/plain": [
       "Downloading pytorch_model.bin:   0%|          | 0.00/10.3M [00:00<?, ?B/s]"
      ]
     },
     "metadata": {},
     "output_type": "display_data"
    },
    {
     "data": {
      "application/vnd.jupyter.widget-view+json": {
       "model_id": "e58c8a917070457aa6ab3fd831bd694a",
       "version_major": 2,
       "version_minor": 0
      },
      "text/plain": [
       "Downloading (…)rocessor_config.json:   0%|          | 0.00/406 [00:00<?, ?B/s]"
      ]
     },
     "metadata": {},
     "output_type": "display_data"
    },
    {
     "name": "stdout",
     "output_type": "stream",
     "text": [
      "trivial solution\n"
     ]
    },
    {
     "data": {
      "application/vnd.jupyter.widget-view+json": {
       "model_id": "33b66946ce674f8aa9664d31f8c8fe99",
       "version_major": 2,
       "version_minor": 0
      },
      "text/plain": [
       "Downloading (…)lve/main/config.json:   0%|          | 0.00/2.94k [00:00<?, ?B/s]"
      ]
     },
     "metadata": {},
     "output_type": "display_data"
    },
    {
     "data": {
      "application/vnd.jupyter.widget-view+json": {
       "model_id": "7089087f23a24d2ab0974f9f6547d2ff",
       "version_major": 2,
       "version_minor": 0
      },
      "text/plain": [
       "Downloading pytorch_model.bin:   0%|          | 0.00/15.0M [00:00<?, ?B/s]"
      ]
     },
     "metadata": {},
     "output_type": "display_data"
    },
    {
     "data": {
      "application/vnd.jupyter.widget-view+json": {
       "model_id": "8ee779990de44882949eca406608bee7",
       "version_major": 2,
       "version_minor": 0
      },
      "text/plain": [
       "Downloading (…)rocessor_config.json:   0%|          | 0.00/272 [00:00<?, ?B/s]"
      ]
     },
     "metadata": {},
     "output_type": "display_data"
    },
    {
     "name": "stderr",
     "output_type": "stream",
     "text": [
      "Could not find image processor class in the image processor config or the model config. Loading based on pattern matching with the model's feature extractor configuration.\n",
      "/Users/ishasharma/anaconda3/lib/python3.10/site-packages/transformers/models/segformer/image_processing_segformer.py:99: FutureWarning: The `reduce_labels` parameter is deprecated and will be removed in a future version. Please use `do_reduce_labels` instead.\n",
      "  warnings.warn(\n"
     ]
    },
    {
     "name": "stdout",
     "output_type": "stream",
     "text": [
      "trivial solution\n"
     ]
    },
    {
     "data": {
      "application/vnd.jupyter.widget-view+json": {
       "model_id": "5862dc6b02f74814a7a68e56e3995817",
       "version_major": 2,
       "version_minor": 0
      },
      "text/plain": [
       "Downloading (…)lve/main/config.json:   0%|          | 0.00/59.0 [00:00<?, ?B/s]"
      ]
     },
     "metadata": {},
     "output_type": "display_data"
    },
    {
     "name": "stdout",
     "output_type": "stream",
     "text": [
      "Gave error\n"
     ]
    },
    {
     "data": {
      "image/png": "[encoded data removed]",
      "text/plain": [
       "<Figure size 640x480 with 5 Axes>"
      ]
     },
     "metadata": {},
     "output_type": "display_data"
    },
    {
     "name": "stdout",
     "output_type": "stream",
     "text": [
      "trivial solution\n",
      "trivial solution\n"
     ]
    },
    {
     "name": "stderr",
     "output_type": "stream",
     "text": [
      "Could not find image processor class in the image processor config or the model config. Loading based on pattern matching with the model's feature extractor configuration.\n"
     ]
    },
    {
     "name": "stdout",
     "output_type": "stream",
     "text": [
      "trivial solution\n",
      "trivial solution\n",
      "Gave error\n"
     ]
    },
    {
     "data": {
      "image/png": "[encoded data removed]",
      "text/plain": [
       "<Figure size 640x480 with 5 Axes>"
      ]
     },
     "metadata": {},
     "output_type": "display_data"
    },
    {
     "name": "stdout",
     "output_type": "stream",
     "text": [
      "trivial solution\n"
     ]
    },
    {
     "name": "stderr",
     "output_type": "stream",
     "text": [
      "Could not find image processor class in the image processor config or the model config. Loading based on pattern matching with the model's feature extractor configuration.\n"
     ]
    },
    {
     "name": "stdout",
     "output_type": "stream",
     "text": [
      "trivial solution\n",
      "trivial solution\n",
      "Gave error\n"
     ]
    },
    {
     "data": {
      "image/png": "[encoded data removed]",
      "text/plain": [
       "<Figure size 640x480 with 5 Axes>"
      ]
     },
     "metadata": {},
     "output_type": "display_data"
    },
    {
     "name": "stdout",
     "output_type": "stream",
     "text": [
      "trivial solution\n",
      "trivial solution\n"
     ]
    },
    {
     "name": "stderr",
     "output_type": "stream",
     "text": [
      "Could not find image processor class in the image processor config or the model config. Loading based on pattern matching with the model's feature extractor configuration.\n"
     ]
    },
    {
     "name": "stdout",
     "output_type": "stream",
     "text": [
      "trivial solution\n",
      "Gave error\n"
     ]
    },
    {
     "data": {
      "image/png": "[encoded data removed]",
      "text/plain": [
       "<Figure size 640x480 with 5 Axes>"
      ]
     },
     "metadata": {},
     "output_type": "display_data"
    },
    {
     "name": "stdout",
     "output_type": "stream",
     "text": [
      "trivial solution\n",
      "trivial solution\n"
     ]
    },
    {
     "name": "stderr",
     "output_type": "stream",
     "text": [
      "Could not find image processor class in the image processor config or the model config. Loading based on pattern matching with the model's feature extractor configuration.\n"
     ]
    },
    {
     "name": "stdout",
     "output_type": "stream",
     "text": [
      "trivial solution\n",
      "trivial solution\n",
      "Gave error\n"
     ]
    },
    {
     "data": {
      "image/png": "[encoded data removed]",
      "text/plain": [
       "<Figure size 640x480 with 5 Axes>"
      ]
     },
     "metadata": {},
     "output_type": "display_data"
    },
    {
     "name": "stdout",
     "output_type": "stream",
     "text": [
      "trivial solution\n",
      "trivial solution\n"
     ]
    },
    {
     "name": "stderr",
     "output_type": "stream",
     "text": [
      "Could not find image processor class in the image processor config or the model config. Loading based on pattern matching with the model's feature extractor configuration.\n"
     ]
    },
    {
     "name": "stdout",
     "output_type": "stream",
     "text": [
      "trivial solution\n",
      "trivial solution\n",
      "Gave error\n"
     ]
    },
    {
     "data": {
      "image/png": "[encoded data removed]",
      "text/plain": [
       "<Figure size 640x480 with 5 Axes>"
      ]
     },
     "metadata": {},
     "output_type": "display_data"
    },
    {
     "name": "stdout",
     "output_type": "stream",
     "text": [
      "trivial solution\n",
      "trivial solution\n"
     ]
    },
    {
     "name": "stderr",
     "output_type": "stream",
     "text": [
      "Could not find image processor class in the image processor config or the model config. Loading based on pattern matching with the model's feature extractor configuration.\n"
     ]
    },
    {
     "name": "stdout",
     "output_type": "stream",
     "text": [
      "trivial solution\n",
      "Gave error\n"
     ]
    },
    {
     "data": {
      "image/png": "[encoded data removed]",
      "text/plain": [
       "<Figure size 640x480 with 5 Axes>"
      ]
     },
     "metadata": {},
     "output_type": "display_data"
    },
    {
     "name": "stdout",
     "output_type": "stream",
     "text": [
      "trivial solution\n",
      "trivial solution\n"
     ]
    },
    {
     "name": "stderr",
     "output_type": "stream",
     "text": [
      "Could not find image processor class in the image processor config or the model config. Loading based on pattern matching with the model's feature extractor configuration.\n"
     ]
    },
    {
     "name": "stdout",
     "output_type": "stream",
     "text": [
      "trivial solution\n",
      "trivial solution\n",
      "Gave error\n"
     ]
    },
    {
     "data": {
      "image/png": "[encoded data removed]",
      "text/plain": [
       "<Figure size 640x480 with 5 Axes>"
      ]
     },
     "metadata": {},
     "output_type": "display_data"
    },
    {
     "name": "stdout",
     "output_type": "stream",
     "text": [
      "trivial solution\n",
      "trivial solution\n",
      "trivial solution\n"
     ]
    },
    {
     "name": "stderr",
     "output_type": "stream",
     "text": [
      "Could not find image processor class in the image processor config or the model config. Loading based on pattern matching with the model's feature extractor configuration.\n"
     ]
    },
    {
     "name": "stdout",
     "output_type": "stream",
     "text": [
      "trivial solution\n",
      "Gave error\n"
     ]
    },
    {
     "data": {
      "image/png": "[encoded data removed]",
      "text/plain": [
       "<Figure size 640x480 with 5 Axes>"
      ]
     },
     "metadata": {},
     "output_type": "display_data"
    }
   ],
   "source": [
    "fitness_table = []\n",
    "for image_path, GT_path in zip(input_paths, GT_paths):\n",
    "    \n",
    "    image = Image.open(image_path).convert(\"RGB\")\n",
    "    \n",
    "    # NOTE TO DIRK, why does adding [:,:,0] change the fitness?\n",
    "    GT_image = np.array(Image.open(GT_path).convert(\"RGB\"))[:,:,0]\n",
    "    \n",
    "    # Create subplots for each model's segmented image\n",
    "    fig, axs = plt.subplots(1, len(models))\n",
    "    \n",
    "    fitness = []\n",
    "    # Iterate over the models and display segmented images\n",
    "    \n",
    "    for i, model_name in enumerate(models):\n",
    "        # Initialize an image segmentation pipeline\n",
    "        try:\n",
    "            segmentation_pipeline = pipeline(\"image-segmentation\", model=model_name)\n",
    "            outputs = segmentation_pipeline(image)\n",
    "            inferred_segmentation = outputs[0]['mask']\n",
    "\n",
    "            # Display the segmented image in the corresponding subplot\n",
    "            ax = axs[i] if len(models) > 1 else axs\n",
    "            ax.imshow(inferred_segmentation)\n",
    "            fit = sf.FitnessFunction(np.array(inferred_segmentation), GT_image)\n",
    "            fitness.append(fit[0])\n",
    "        except:\n",
    "            fitness.append(\"NaN\")\n",
    "            print(\"Gave error\")\n",
    "    fitness_table.append(fitness)\n",
    "\n",
    "        # Adjust the layout to avoid overlapping images\n",
    "    fig.tight_layout()\n",
    "\n",
    "        # Show the figure for the current image\n",
    "    plt.show()\n",
    "  "
   ]
  },
  {
   "cell_type": "code",
   "execution_count": 8,
   "id": "34a86a2e-485d-42fb-b4ed-035483d3959b",
   "metadata": {},
   "outputs": [],
   "source": [
    "import pandas as pd"
   ]
  },
  {
   "cell_type": "code",
   "execution_count": 9,
   "id": "474ac772",
   "metadata": {},
   "outputs": [
    {
     "data": {
      "text/html": [
       "<div>\n",
       "<style scoped>\n",
       "    .dataframe tbody tr th:only-of-type {\n",
       "        vertical-align: middle;\n",
       "    }\n",
       "\n",
       "    .dataframe tbody tr th {\n",
       "        vertical-align: top;\n",
       "    }\n",
       "\n",
       "    .dataframe thead th {\n",
       "        text-align: right;\n",
       "    }\n",
       "</style>\n",
       "<table border=\"1\" class=\"dataframe\">\n",
       "  <thead>\n",
       "    <tr style=\"text-align: right;\">\n",
       "      <th></th>\n",
       "      <th>google/deeplabv3_mobilenet_v2_1.0_513</th>\n",
       "      <th>vhug/segformer-b0-finetuned-xorder-dish-segmentation-trial</th>\n",
       "      <th>Efferbach/mobilenet_v2_1-10k-steps</th>\n",
       "      <th>nielsr/sidewalk-semantic-demo</th>\n",
       "      <th>Narsil/pet-segmentation</th>\n",
       "    </tr>\n",
       "    <tr>\n",
       "      <th>Images</th>\n",
       "      <th></th>\n",
       "      <th></th>\n",
       "      <th></th>\n",
       "      <th></th>\n",
       "      <th></th>\n",
       "    </tr>\n",
       "  </thead>\n",
       "  <tbody>\n",
       "    <tr>\n",
       "      <th>Images/Street.png</th>\n",
       "      <td>0.084</td>\n",
       "      <td>1.500</td>\n",
       "      <td>1.500</td>\n",
       "      <td>1.500</td>\n",
       "      <td>NaN</td>\n",
       "    </tr>\n",
       "    <tr>\n",
       "      <th>Images/bread.jpg</th>\n",
       "      <td>1.500</td>\n",
       "      <td>1.500</td>\n",
       "      <td>1.500</td>\n",
       "      <td>1.500</td>\n",
       "      <td>NaN</td>\n",
       "    </tr>\n",
       "    <tr>\n",
       "      <th>Images/Bambooplant.jpg</th>\n",
       "      <td>1.003</td>\n",
       "      <td>1.500</td>\n",
       "      <td>1.500</td>\n",
       "      <td>1.500</td>\n",
       "      <td>NaN</td>\n",
       "    </tr>\n",
       "    <tr>\n",
       "      <th>Images/a_walk_in_the_park.jpg</th>\n",
       "      <td>1.500</td>\n",
       "      <td>1.500</td>\n",
       "      <td>1.500</td>\n",
       "      <td>1.003</td>\n",
       "      <td>NaN</td>\n",
       "    </tr>\n",
       "    <tr>\n",
       "      <th>Images/Books.jpg</th>\n",
       "      <td>1.500</td>\n",
       "      <td>1.500</td>\n",
       "      <td>1.500</td>\n",
       "      <td>1.500</td>\n",
       "      <td>NaN</td>\n",
       "    </tr>\n",
       "    <tr>\n",
       "      <th>Images/Airpods.JPEG</th>\n",
       "      <td>1.500</td>\n",
       "      <td>1.500</td>\n",
       "      <td>1.500</td>\n",
       "      <td>1.500</td>\n",
       "      <td>NaN</td>\n",
       "    </tr>\n",
       "    <tr>\n",
       "      <th>Images/Mushrooms.jpeg</th>\n",
       "      <td>1.500</td>\n",
       "      <td>1.500</td>\n",
       "      <td>1.500</td>\n",
       "      <td>1.005</td>\n",
       "      <td>NaN</td>\n",
       "    </tr>\n",
       "    <tr>\n",
       "      <th>Images/AA_Chameleon.jpg</th>\n",
       "      <td>1.500</td>\n",
       "      <td>1.500</td>\n",
       "      <td>1.500</td>\n",
       "      <td>1.500</td>\n",
       "      <td>NaN</td>\n",
       "    </tr>\n",
       "    <tr>\n",
       "      <th>Images/trump.png</th>\n",
       "      <td>1.500</td>\n",
       "      <td>1.500</td>\n",
       "      <td>1.500</td>\n",
       "      <td>1.500</td>\n",
       "      <td>NaN</td>\n",
       "    </tr>\n",
       "  </tbody>\n",
       "</table>\n",
       "</div>"
      ],
      "text/plain": [
       "                               google/deeplabv3_mobilenet_v2_1.0_513  \\\n",
       "Images                                                                 \n",
       "Images/Street.png                                              0.084   \n",
       "Images/bread.jpg                                               1.500   \n",
       "Images/Bambooplant.jpg                                         1.003   \n",
       "Images/a_walk_in_the_park.jpg                                  1.500   \n",
       "Images/Books.jpg                                               1.500   \n",
       "Images/Airpods.JPEG                                            1.500   \n",
       "Images/Mushrooms.jpeg                                          1.500   \n",
       "Images/AA_Chameleon.jpg                                        1.500   \n",
       "Images/trump.png                                               1.500   \n",
       "\n",
       "                               vhug/segformer-b0-finetuned-xorder-dish-segmentation-trial  \\\n",
       "Images                                                                                      \n",
       "Images/Street.png                                                          1.500            \n",
       "Images/bread.jpg                                                           1.500            \n",
       "Images/Bambooplant.jpg                                                     1.500            \n",
       "Images/a_walk_in_the_park.jpg                                              1.500            \n",
       "Images/Books.jpg                                                           1.500            \n",
       "Images/Airpods.JPEG                                                        1.500            \n",
       "Images/Mushrooms.jpeg                                                      1.500            \n",
       "Images/AA_Chameleon.jpg                                                    1.500            \n",
       "Images/trump.png                                                           1.500            \n",
       "\n",
       "                               Efferbach/mobilenet_v2_1-10k-steps  \\\n",
       "Images                                                              \n",
       "Images/Street.png                                           1.500   \n",
       "Images/bread.jpg                                            1.500   \n",
       "Images/Bambooplant.jpg                                      1.500   \n",
       "Images/a_walk_in_the_park.jpg                               1.500   \n",
       "Images/Books.jpg                                            1.500   \n",
       "Images/Airpods.JPEG                                         1.500   \n",
       "Images/Mushrooms.jpeg                                       1.500   \n",
       "Images/AA_Chameleon.jpg                                     1.500   \n",
       "Images/trump.png                                            1.500   \n",
       "\n",
       "                               nielsr/sidewalk-semantic-demo  \\\n",
       "Images                                                         \n",
       "Images/Street.png                                      1.500   \n",
       "Images/bread.jpg                                       1.500   \n",
       "Images/Bambooplant.jpg                                 1.500   \n",
       "Images/a_walk_in_the_park.jpg                          1.003   \n",
       "Images/Books.jpg                                       1.500   \n",
       "Images/Airpods.JPEG                                    1.500   \n",
       "Images/Mushrooms.jpeg                                  1.005   \n",
       "Images/AA_Chameleon.jpg                                1.500   \n",
       "Images/trump.png                                       1.500   \n",
       "\n",
       "                              Narsil/pet-segmentation  \n",
       "Images                                                 \n",
       "Images/Street.png                                 NaN  \n",
       "Images/bread.jpg                                  NaN  \n",
       "Images/Bambooplant.jpg                            NaN  \n",
       "Images/a_walk_in_the_park.jpg                     NaN  \n",
       "Images/Books.jpg                                  NaN  \n",
       "Images/Airpods.JPEG                               NaN  \n",
       "Images/Mushrooms.jpeg                             NaN  \n",
       "Images/AA_Chameleon.jpg                           NaN  \n",
       "Images/trump.png                                  NaN  "
      ]
     },
     "execution_count": 9,
     "metadata": {},
     "output_type": "execute_result"
    }
   ],
   "source": [
    "df = pd.DataFrame(fitness_table, index = inferred, columns = models)\n",
    "df.index.names = [\"Images\"]\n",
    "pd.options.display.float_format = '{:.3f}'.format\n",
    "df"
   ]
  }
 ],
 "metadata": {
  "kernelspec": {
   "display_name": "Python 3 (ipykernel)",
   "language": "python",
   "name": "python3"
  },
  "language_info": {
   "codemirror_mode": {
    "name": "ipython",
    "version": 3
   },
   "file_extension": ".py",
   "mimetype": "text/x-python",
   "name": "python",
   "nbconvert_exporter": "python",
   "pygments_lexer": "ipython3",
   "version": "3.10.9"
  }
 },
 "nbformat": 4,
 "nbformat_minor": 5
}
