{
 "cells": [
  {
   "cell_type": "markdown",
   "id": "6fbaab93-9a09-4926-b3bd-0d0ff50b3b59",
   "metadata": {},
   "source": [
    "# Hugging face"
   ]
  },
  {
   "cell_type": "code",
   "execution_count": null,
   "id": "cd9453d2-12cd-4f28-9588-4b6293ef20ba",
   "metadata": {
    "tags": []
   },
   "outputs": [],
   "source": [
    "import sys\n",
    "sys.path.append('./see-segment')\n",
    "\n",
    "from SEE_hug import list_of_models\n",
    "from pathlib import Path\n",
    "import numpy as np\n",
    "from PIL import Image"
   ]
  },
  {
   "cell_type": "code",
   "execution_count": null,
   "id": "3ec4c6c5-fa40-49ea-83ee-883bdb36d6dd",
   "metadata": {
    "tags": []
   },
   "outputs": [],
   "source": [
    "models = list_of_models.fetch_models()"
   ]
  },
  {
   "cell_type": "code",
   "execution_count": null,
   "id": "f61bb3f2-0f18-42f4-bdcb-c3ff9ee53180",
   "metadata": {},
   "outputs": [],
   "source": [
    "image_names = list_of_models.get_imagefiles()"
   ]
  },
  {
   "cell_type": "code",
   "execution_count": null,
   "id": "32287508-a660-48fd-9ec9-56136aa28ce9",
   "metadata": {},
   "outputs": [],
   "source": [
    "for image_name,GT_name in image_names:\n",
    "    img = Image.open(image_name).convert(\"RGB\")\n",
    "    GT = np.array(Image.open(GT_name).convert(\"RGB\"))[:,:,0]\n",
    "    results = list_of_models.checkall(img, GT, models)"
   ]
  },
  {
   "cell_type": "code",
   "execution_count": null,
   "id": "b2b210d6-f9bd-4d00-86c2-3b055955bd5b",
   "metadata": {},
   "outputs": [],
   "source": []
  }
 ],
 "metadata": {
  "kernelspec": {
   "display_name": "Python 3 (ipykernel)",
   "language": "python",
   "name": "python3"
  },
  "language_info": {
   "codemirror_mode": {
    "name": "ipython",
    "version": 3
   },
   "file_extension": ".py",
   "mimetype": "text/x-python",
   "name": "python",
   "nbconvert_exporter": "python",
   "pygments_lexer": "ipython3",
   "version": "3.10.10"
  }
 },
 "nbformat": 4,
 "nbformat_minor": 5
}
