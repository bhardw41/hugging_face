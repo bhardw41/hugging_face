{
 "cells": [
  {
   "cell_type": "markdown",
   "id": "6fbaab93-9a09-4926-b3bd-0d0ff50b3b59",
   "metadata": {},
   "source": [
    "# Hugging face"
   ]
  },
  {
   "cell_type": "code",
   "execution_count": null,
   "id": "265c7069-cb6c-4582-82e3-05ce1c9053fa",
   "metadata": {
    "tags": []
   },
   "outputs": [],
   "source": [
    "import sys\n",
    "sys.path.append('./see-segment')\n",
    "\n",
    "from SEE_hug import list_of_models\n",
    "from pathlib import Path\n",
    "import numpy as np\n",
    "models = list_of_models.fetch_models()"
   ]
  },
  {
   "cell_type": "code",
   "execution_count": null,
   "id": "dc6da485-be3b-4b96-8291-f2290f29116d",
   "metadata": {
    "tags": []
   },
   "outputs": [],
   "source": [
    "from PIL import Image\n",
    "\n",
    "img = Image.open('./Images/AA_Chameleon.jpg').convert(\"RGB\")\n",
    "GT = np.array(Image.open('./Images/AA_Chameleon_GT.png').convert(\"RGB\"))[:,:,0]"
   ]
  },
  {
   "cell_type": "code",
   "execution_count": null,
   "id": "110eba0b-be26-4343-944f-a5de40f7db45",
   "metadata": {
    "tags": []
   },
   "outputs": [],
   "source": [
    "results = list_of_models.checkall(img, GT, models)"
   ]
  },
  {
   "cell_type": "code",
   "execution_count": null,
   "id": "f61bb3f2-0f18-42f4-bdcb-c3ff9ee53180",
   "metadata": {},
   "outputs": [],
   "source": [
    "results"
   ]
  },
  {
   "cell_type": "code",
   "execution_count": null,
   "id": "32287508-a660-48fd-9ec9-56136aa28ce9",
   "metadata": {},
   "outputs": [],
   "source": []
  }
 ],
 "metadata": {
  "kernelspec": {
   "display_name": "Python 3 (ipykernel)",
   "language": "python",
   "name": "python3"
  },
  "language_info": {
   "codemirror_mode": {
    "name": "ipython",
    "version": 3
   },
   "file_extension": ".py",
   "mimetype": "text/x-python",
   "name": "python",
   "nbconvert_exporter": "python",
   "pygments_lexer": "ipython3",
   "version": "3.11.3"
  }
 },
 "nbformat": 4,
 "nbformat_minor": 5
}
