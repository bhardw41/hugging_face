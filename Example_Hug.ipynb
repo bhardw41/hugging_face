{
 "cells": [
  {
   "cell_type": "markdown",
   "id": "6fbaab93-9a09-4926-b3bd-0d0ff50b3b59",
   "metadata": {},
   "source": [
    "# Hugging face"
   ]
  },
  {
   "cell_type": "code",
   "execution_count": null,
   "id": "265c7069-cb6c-4582-82e3-05ce1c9053fa",
   "metadata": {
    "tags": []
   },
   "outputs": [],
   "source": [
    "from wrapper import list_of_models\n",
    "from pathlib import Path\n",
    "\n",
    "# Read in model file\n",
    "modelfile = 'models.txt'\n",
    "model_file = Path(modelfile)\n",
    "if model_file.is_file():\n",
    "    models = list_of_models.read_models(modlefile)\n",
    "else:\n",
    "    models = list_of_models.get_models()\n",
    "    list_of_models.save_models(models, modlefile)"
   ]
  },
  {
   "cell_type": "code",
   "execution_count": 1,
   "id": "dc6da485-be3b-4b96-8291-f2290f29116d",
   "metadata": {
    "tags": []
   },
   "outputs": [
    {
     "name": "stdout",
     "output_type": "stream",
     "text": [
      "Intel MKL WARNING: Support of Intel(R) Streaming SIMD Extensions 4.2 (Intel(R) SSE4.2) enabled only processors has been deprecated. Intel oneAPI Math Kernel Library 2025.0 will require Intel(R) Advanced Vector Extensions (Intel(R) AVX) instructions.\n",
      "Intel MKL WARNING: Support of Intel(R) Streaming SIMD Extensions 4.2 (Intel(R) SSE4.2) enabled only processors has been deprecated. Intel oneAPI Math Kernel Library 2025.0 will require Intel(R) Advanced Vector Extensions (Intel(R) AVX) instructions.\n"
     ]
    }
   ],
   "source": [
    "import sys\n",
    "sys.path.append('./see-segment')\n",
    "\n",
    "from SEEhug import checkall\n",
    "import imageio\n",
    "\n",
    "img = imageio.read('./Images/AA_Chameleon.jpg')\n",
    "GT = imageio.read('./Images/AA_Chameleon_GT.png')"
   ]
  },
  {
   "cell_type": "code",
   "execution_count": 2,
   "id": "110eba0b-be26-4343-944f-a5de40f7db45",
   "metadata": {
    "tags": []
   },
   "outputs": [],
   "source": [
    "results = checkall(img, GT, models)"
   ]
  },
  {
   "cell_type": "code",
   "execution_count": null,
   "id": "f61bb3f2-0f18-42f4-bdcb-c3ff9ee53180",
   "metadata": {},
   "outputs": [],
   "source": []
  }
 ],
 "metadata": {
  "kernelspec": {
   "display_name": "Python 3 (ipykernel)",
   "language": "python",
   "name": "python3"
  },
  "language_info": {
   "codemirror_mode": {
    "name": "ipython",
    "version": 3
   },
   "file_extension": ".py",
   "mimetype": "text/x-python",
   "name": "python",
   "nbconvert_exporter": "python",
   "pygments_lexer": "ipython3",
   "version": "3.11.3"
  }
 },
 "nbformat": 4,
 "nbformat_minor": 5
}
