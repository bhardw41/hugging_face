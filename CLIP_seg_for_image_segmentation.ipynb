{
 "cells": [
  {
   "cell_type": "markdown",
   "id": "a443ec4b",
   "metadata": {},
   "source": [
    "Encountered a problem with my wrapper function. \n",
    "My function works for two models but this one uses lesser dimensions."
   ]
  },
  {
   "cell_type": "code",
   "execution_count": 23,
   "id": "5a332c30",
   "metadata": {},
   "outputs": [],
   "source": [
    "import sys\n",
    "sys.path.append('./see-segment')"
   ]
  },
  {
   "cell_type": "code",
   "execution_count": 24,
   "id": "39455e14",
   "metadata": {},
   "outputs": [
    {
     "ename": "IndexError",
     "evalue": "too many indices for tensor of dimension 3",
     "output_type": "error",
     "traceback": [
      "\u001b[0;31m---------------------------------------------------------------------------\u001b[0m",
      "\u001b[0;31mIndexError\u001b[0m                                Traceback (most recent call last)",
      "Cell \u001b[0;32mIn[24], line 18\u001b[0m\n\u001b[1;32m     15\u001b[0m outputs \u001b[38;5;241m=\u001b[39m model(\u001b[38;5;241m*\u001b[39m\u001b[38;5;241m*\u001b[39minputs)\n\u001b[1;32m     17\u001b[0m logits \u001b[38;5;241m=\u001b[39m outputs\u001b[38;5;241m.\u001b[39mlogits\n\u001b[0;32m---> 18\u001b[0m image \u001b[38;5;241m=\u001b[39m \u001b[43mlogit_image\u001b[49m\u001b[38;5;241;43m.\u001b[39;49m\u001b[43mlogits_to_image\u001b[49m\u001b[43m(\u001b[49m\u001b[43mlogits\u001b[49m\u001b[43m)\u001b[49m\n\u001b[1;32m     19\u001b[0m image\u001b[38;5;241m.\u001b[39mshow()\n",
      "File \u001b[0;32m~/Desktop/hugging_face/wrapper/logit_image.py:10\u001b[0m, in \u001b[0;36mlogits_to_image\u001b[0;34m(logits)\u001b[0m\n\u001b[1;32m      7\u001b[0m     probabilities \u001b[38;5;241m=\u001b[39m F\u001b[38;5;241m.\u001b[39msoftmax(logits, dim\u001b[38;5;241m=\u001b[39m\u001b[38;5;241m1\u001b[39m)\n\u001b[1;32m      9\u001b[0m \u001b[38;5;66;03m# Select the probabilities for the desired class (e.g., class 0)\u001b[39;00m\n\u001b[0;32m---> 10\u001b[0m     class_probabilities \u001b[38;5;241m=\u001b[39m \u001b[43mprobabilities\u001b[49m\u001b[43m[\u001b[49m\u001b[43m:\u001b[49m\u001b[43m,\u001b[49m\u001b[43m \u001b[49m\u001b[38;5;241;43m0\u001b[39;49m\u001b[43m,\u001b[49m\u001b[43m \u001b[49m\u001b[43m:\u001b[49m\u001b[43m,\u001b[49m\u001b[43m \u001b[49m\u001b[43m:\u001b[49m\u001b[43m]\u001b[49m\n\u001b[1;32m     12\u001b[0m \u001b[38;5;66;03m# Convert probabilities to an image\u001b[39;00m\n\u001b[1;32m     13\u001b[0m     class_probabilities_np \u001b[38;5;241m=\u001b[39m class_probabilities\u001b[38;5;241m.\u001b[39mdetach()\u001b[38;5;241m.\u001b[39mnumpy()\n",
      "\u001b[0;31mIndexError\u001b[0m: too many indices for tensor of dimension 3"
     ]
    }
   ],
   "source": [
    "from transformers import AutoProcessor, CLIPSegForImageSegmentation\n",
    "from PIL import Image\n",
    "import requests\n",
    "from wrapper import logit_image\n",
    "\n",
    "processor = AutoProcessor.from_pretrained(\"CIDAS/clipseg-rd64-refined\")\n",
    "model = CLIPSegForImageSegmentation.from_pretrained(\"CIDAS/clipseg-rd64-refined\")\n",
    "image_path = 'Images/trump.png'\n",
    "image = Image.open(image_path).convert(\"RGB\")\n",
    "# url = \"http://images.cocodataset.org/val2017/000000039769.jpg\"\n",
    "# image = Image.open(requests.get(url, stream=True).raw)\n",
    "texts = [\"a cat\", \"a remote\", \"a blanket\"]\n",
    "inputs = processor(text=texts, images=[image] * len(texts), padding=True, return_tensors=\"pt\")\n",
    "\n",
    "outputs = model(**inputs)\n",
    "\n",
    "logits = outputs.logits\n",
    "image = logit_image.logits_to_image(logits)\n",
    "image.show()\n"
   ]
  },
  {
   "cell_type": "code",
   "execution_count": null,
   "id": "512807e3",
   "metadata": {},
   "outputs": [],
   "source": []
  }
 ],
 "metadata": {
  "kernelspec": {
   "display_name": "Python 3 (ipykernel)",
   "language": "python",
   "name": "python3"
  },
  "language_info": {
   "codemirror_mode": {
    "name": "ipython",
    "version": 3
   },
   "file_extension": ".py",
   "mimetype": "text/x-python",
   "name": "python",
   "nbconvert_exporter": "python",
   "pygments_lexer": "ipython3",
   "version": "3.10.9"
  }
 },
 "nbformat": 4,
 "nbformat_minor": 5
}
