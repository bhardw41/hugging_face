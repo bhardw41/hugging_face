{
 "cells": [
  {
   "cell_type": "markdown",
   "id": "18a041b0",
   "metadata": {},
   "source": [
    "# CLIP_seg_for_image_segmentation\n",
    "This model is a little different from the rest we have encountered so far. In a nutshell, the logits in this models have a lesser number of dimensions. It also uses a different method segmentation. The differences have been pointed out as and when they occur."
   ]
  },
  {
   "cell_type": "code",
   "execution_count": 5,
   "id": "6050b538",
   "metadata": {},
   "outputs": [],
   "source": [
    "from transformers import AutoProcessor, CLIPSegForImageSegmentation\n",
    "from PIL import Image\n",
    "# from wrapper import logit_image\n",
    "import matplotlib.pylab as plt\n",
    "import numpy as np\n",
    "import cv2"
   ]
  },
  {
   "cell_type": "code",
   "execution_count": 6,
   "id": "20f646c2",
   "metadata": {},
   "outputs": [],
   "source": [
    "processor = AutoProcessor.from_pretrained(\"CIDAS/clipseg-rd64-refined\")\n",
    "model = CLIPSegForImageSegmentation.from_pretrained(\"CIDAS/clipseg-rd64-refined\")\n",
    "# image_path = 'Images/trump.png'\n",
    "image_path = 'Images/AA_Chameleon.jpg'\n",
    "image = Image.open(image_path).convert(\"RGB\")\n",
    "image_path_GT = 'Images/trump_GT.png'\n",
    "ground_truth = Image.open(image_path_GT).convert(\"RGB\")"
   ]
  },
  {
   "cell_type": "markdown",
   "id": "caa2050a",
   "metadata": {},
   "source": [
    "### Difference\n",
    "This model will produce a different output every time you change the texts you give it in the next cell. Initially texts was [\"a cat\", \"a remote\", \"a dog\"] and it produced a blank purple image. On changing it to its current state, I got a vertical gradient. \n",
    "##### Question?\n",
    "Is it because of the lesser dimesnions?"
   ]
  },
  {
   "cell_type": "code",
   "execution_count": 7,
   "id": "63831f20",
   "metadata": {},
   "outputs": [],
   "source": [
    "# texts = [\"a bulding\", \"a bridge\", \"trump\"]\n",
    "texts = [\"a chameleon\", \"animal\", \"green\"]\n",
    "inputs = processor(text=texts, images=[image] * len(texts), padding=True, return_tensors=\"pt\")\n",
    "outputs = model(**inputs)\n",
    "logits = outputs.logits"
   ]
  },
  {
   "cell_type": "markdown",
   "id": "c4fe1944",
   "metadata": {},
   "source": [
    "#### Why didn't I call the wrapper function?\n",
    "Because that won't work on this model because of the lesser number of dimensions. On changing that to cater to 3 dimensions, it worked."
   ]
  },
  {
   "cell_type": "code",
   "execution_count": 8,
   "id": "278e1838",
   "metadata": {},
   "outputs": [
    {
     "data": {
      "text/plain": [
       "<matplotlib.image.AxesImage at 0x2940722f0>"
      ]
     },
     "execution_count": 8,
     "metadata": {},
     "output_type": "execute_result"
    },
    {
     "data": {
      "image/png": "[encoded data removed]",
      "text/plain": [
       "<Figure size 640x480 with 1 Axes>"
      ]
     },
     "metadata": {},
     "output_type": "display_data"
    }
   ],
   "source": [
    "logits_mask = np.zeros(list(logits.shape[2:4]))\n",
    "for label in range(logits.shape[1]):\n",
    "    thislabel = logits[0,label,:].detach().numpy() #changes made here\n",
    "    logits_mask[thislabel > 0] = label\n",
    "mask = cv2.resize(logits_mask, dsize=image.size, interpolation=cv2.INTER_CUBIC)\n",
    "plt.imshow(mask)"
   ]
  },
  {
   "cell_type": "code",
   "execution_count": null,
   "id": "06795ab9",
   "metadata": {},
   "outputs": [],
   "source": []
  }
 ],
 "metadata": {
  "kernelspec": {
   "display_name": "Python 3 (ipykernel)",
   "language": "python",
   "name": "python3"
  },
  "language_info": {
   "codemirror_mode": {
    "name": "ipython",
    "version": 3
   },
   "file_extension": ".py",
   "mimetype": "text/x-python",
   "name": "python",
   "nbconvert_exporter": "python",
   "pygments_lexer": "ipython3",
   "version": "3.10.9"
  }
 },
 "nbformat": 4,
 "nbformat_minor": 5
}
